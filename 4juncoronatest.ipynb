{
 "cells": [
  {
   "cell_type": "markdown",
   "id": "61ba1432",
   "metadata": {},
   "source": [
    "***GENERATED CODE FOR 4juncoronatest PIPELINE.***"
   ]
  },
  {
   "cell_type": "markdown",
   "id": "ace8d697",
   "metadata": {},
   "source": [
    "***DON'T EDIT THIS CODE.***"
   ]
  },
  {
   "cell_type": "markdown",
   "id": "48a8f4a1",
   "metadata": {},
   "source": [
    "***CONNECTOR FUNCTIONS TO READ DATA.***"
   ]
  },
  {
   "cell_type": "code",
   "execution_count": null,
   "id": "982d76dd",
   "metadata": {},
   "outputs": [],
   "source": [
    "import os\n",
    "import datetime\n",
    "import logging\n",
    "import warnings\n",
    "warnings.filterwarnings('ignore')\n",
    "logging.basicConfig(format='%(levelname)s:%(message)s', level=logging.INFO)\n",
    "\n",
    "\n",
    "class HDFSConnector:\n",
    "\n",
    "    def fetch(spark, config):\n",
    "        ################### INPUT HADOOP HOST PORT TO CONNECT WITH ###############################\n",
    "        hdfs_server = str(os.environ['HDFS_SERVER'])\n",
    "        hdfs_port = int(os.environ['HDFS_PORT'])\n",
    "        df = spark.read.options(header='true', inferschema='true').csv(\n",
    "            f\"hdfs://{hdfs_server}:{hdfs_port}{eval(config)['url']}\", header='true')\n",
    "        display(df.limit(2).toPandas())\n",
    "        return df\n",
    "\n",
    "    def put(df, spark, config):\n",
    "        return df.write.format('csv').options(header='true' if eval(config)[\"is_header\"] == \"Use Header Line\" else 'false',\n",
    "                                              delimiter=eval(config)[\"delimiter\"]).save((\"%s %s\") % (datetime.datetime.now().strftime(\"%Y-%m-%d %H.%M.%S\")+\"_\", eval(config)['url']))\n"
   ]
  },
  {
   "cell_type": "markdown",
   "id": "a2963617",
   "metadata": {},
   "source": [
    "***OPERATION FUNCTIONS***"
   ]
  },
  {
   "cell_type": "code",
   "execution_count": null,
   "id": "5d580429",
   "metadata": {},
   "outputs": [],
   "source": [
    "import pyspark\n",
    "from dask.dataframe import from_pandas\n",
    "import json\n",
    "\n",
    "\n",
    "def DateTransform(df, functionsData, applyOn=[]):\n",
    "    import dask.dataframe as dd\n",
    "    import pandas as pd\n",
    "    import numpy as np\n",
    "\n",
    "    for functiondata in functionsData:\n",
    "        functiondata = functiondata\n",
    "\n",
    "    dfcp = df\n",
    "    dfcp1 = dfcp\n",
    "    resulttype = dfcp1.select_dtypes(include=[np.datetime64])\n",
    "    for existingdatecols in resulttype.columns:\n",
    "        dfcp[existingdatecols] = dfcp[existingdatecols].apply(\n",
    "            lambda x: x.replace(tzinfo=None))\n",
    "\n",
    "    Dateformat1 = 'YYYY-DD-MM'\n",
    "    Dateformat2 = 'YY/MM/DD'\n",
    "    Dateformat3 = 'DD/MM/YYYY'\n",
    "    Dateformat4 = 'M/D/YY'\n",
    "    NotDateFromat = [Dateformat1, Dateformat2, Dateformat3, Dateformat4]\n",
    "\n",
    "    if 'inputDateFormat' in functiondata:\n",
    "        coldetail = functiondata['column']\n",
    "        for col in coldetail:\n",
    "            colname = col['columnName']\n",
    "        inputFormat = str(functiondata['inputDateFormat'])\n",
    "        functiondata['outputDateFormat']\n",
    "        functiondata['newColumn']\n",
    "    if ('newColumnName' in functiondata):\n",
    "        if inputFormat in NotDateFromat:\n",
    "            NewDateCol = functiondata['newColumnName']\n",
    "            dfcp = dfcp.compute()\n",
    "            dfcp[NewDateCol] = dfcp[colname].apply(\n",
    "                lambda x: pd.to_datetime(x, format='%d/%m/%Y', utc=False))\n",
    "            dfcp[NewDateCol] = dfcp[NewDateCol].apply(\n",
    "                lambda x: x.strftime(\"%Y-%m-%d\"))\n",
    "            dfcp[NewDateCol] = pd.to_datetime(dfcp[NewDateCol], utc=False)\n",
    "            dfcp = dd.from_pandas(dfcp, npartitions=2)\n",
    "            dfcp[NewDateCol] = dfcp[NewDateCol].apply(\n",
    "                lambda x: x.replace(tzinfo=None))\n",
    "    elif (('newColumnName' not in functiondata) and (inputFormat in NotDateFromat)):\n",
    "        dfcp = dfcp.compute()\n",
    "        dfcp[colname] = dfcp[colname].apply(\n",
    "            lambda x: pd.to_datetime(x, format='%d/%m/%Y'))\n",
    "        dfcp[colname] = dfcp[colname].apply(lambda x: x.strftime(\"%Y-%m-%d\"))\n",
    "        dfcp[colname] = pd.to_datetime(dfcp[colname], utc=False)\n",
    "        dfcp = dd.from_pandas(dfcp, npartitions=2)\n",
    "\n",
    "    return dfcp\n",
    "\n",
    "\n",
    "def runDataCleansing(sparkDf, spark, config):\n",
    "    configObj = json.loads(config)\n",
    "    sparkDf.persist(pyspark.StorageLevel.MEMORY_AND_DISK)\n",
    "    df = from_pandas((sparkDf.toPandas()), npartitions=5)\n",
    "    functionList = configObj['functionsApplied']\n",
    "    Data_Cleansing_Methods = {\"replaceBy\": replaceValues,\n",
    "                              \"formula\": calculateFormula,\n",
    "                              \"aggregate\": aggregation,\n",
    "                              \"converttostringtype\": changeToString,\n",
    "                              \"editname\": renameColumns}\n",
    "    for function in functionList:\n",
    "        function['functionName']\n",
    "        df = Data_Cleansing_Methods[function['functionName']](df, function['functionsData'],\n",
    "                                                              function['applyOn'])\n",
    "    sparkDf = spark.createDataFrame(df.compute())\n",
    "\n",
    "    display(sparkDf.limit(2).toPandas())\n",
    "    return sparkDf\n"
   ]
  },
  {
   "cell_type": "markdown",
   "id": "d5197a18",
   "metadata": {},
   "source": [
    "***CONNECTOR FUNCTIONS TO WRITE DATA.***"
   ]
  },
  {
   "cell_type": "code",
   "execution_count": null,
   "id": "f66e3238",
   "metadata": {},
   "outputs": [],
   "source": [
    "import datetime\n",
    "import requests\n",
    "import datetime\n",
    "import logging\n",
    "import warnings\n",
    "warnings.filterwarnings('ignore')\n",
    "logging.basicConfig(format='%(levelname)s:%(message)s', level=logging.INFO)\n",
    "\n",
    "\n",
    "class NumtraConnector:\n",
    "\n",
    "    def put(inStages, inStagesData, stageId, spark, config):\n",
    "        path = eval(config)['server_url']\n",
    "        baseType = eval(config)['baseType']\n",
    "        results_url = eval(config)['results_url']\n",
    "        server = eval(config)['server']\n",
    "        originalfile = eval(config)['orignalKey']\n",
    "        eval(config)['pathOnly']\n",
    "        filename = eval(config)['filename']\n",
    "        eval(config)['ser']\n",
    "        eval(config)['user']\n",
    "        eval(config)['password']\n",
    "        eval(config)['authSource']\n",
    "        eval(config)['user_id']\n",
    "        eval(config)['parent_id']\n",
    "        eval(config)['project_id']\n",
    "        time = str(int(datetime.datetime.now().timestamp()))\n",
    "\n",
    "        inStagesData[inStages[0]]\n",
    "\n",
    "        print(path)\n",
    "        print(baseType)\n",
    "        print(results_url)\n",
    "        print(server)\n",
    "        print(originalfile)\n",
    "        print(filename)\n",
    "\n",
    "        args = {\n",
    "            'url': path,\n",
    "            'baseType': baseType,\n",
    "            'originalfile': originalfile,\n",
    "            'filename': time + filename\n",
    "        }\n",
    "\n",
    "        response = requests.post(results_url, args)\n",
    "        return response\n"
   ]
  },
  {
   "cell_type": "markdown",
   "id": "001c4527",
   "metadata": {},
   "source": [
    "***READING DATAFRAME***"
   ]
  },
  {
   "cell_type": "code",
   "execution_count": null,
   "id": "dd8d942a",
   "metadata": {},
   "outputs": [],
   "source": [
    "############## CREATE SPARK SESSION ############################ ENTER YOUR SPARK MASTER IP AND PORT TO CONNECT TO SERVER ################\n",
    "from pyspark.sql import SparkSession\n",
    "spark = SparkSession.builder.master('local[1]').getOrCreate()\n",
    "#%run 4juncoronatestHooks.ipynb\n",
    "try:\n",
    "\t#sourcePreExecutionHook()\n",
    "\n",
    "\tcoronatstrainpqjy = HDFSConnector.fetch(spark, \"{'url': '/FileStore/platform/uploadedSourceFiles/CoronaTSTrain.csv', 'filename': 'CoronaTSTrain.csv', 'delimiter': ',', 'file_type': 'Delimeted', 'dbfs_token': '', 'dbfs_domain': '', 'is_header': 'Use Header Line', 'server_url': '/nexusMax/NexusMaxPlatform/uploads/platform/', 'results_url': 'http://dnm.bfirst.ai:44040/api/read/hdfs'}\")\n",
    "\n",
    "except Exception as ex: \n",
    "\tlogging.error(ex)\n",
    "#spark.stop()\n"
   ]
  },
  {
   "cell_type": "markdown",
   "id": "2e19af6e",
   "metadata": {},
   "source": [
    "***PERFORMING OPERATIONS***"
   ]
  },
  {
   "cell_type": "code",
   "execution_count": null,
   "id": "6766970d",
   "metadata": {},
   "outputs": [],
   "source": [
    "#%run 4juncoronatestHooks.ipynb\n",
    "try:\n",
    "\t#operationPreExecutionHook()\n",
    "\n",
    "datapreparation = runDataCleansing(coronatstrainpqjy,spark,json.dumps( {\"url\": \"/FileStore/platform/uploadedSourceFiles/CoronaTSTrain.csv\", \"source_attributes\": {}, \"DataPrepFile\": \"/FileStore/platform/uploadedSourceFiles/CoronaTSTrain.csv\", \"data_source\": \"localfiles\", \"startListenerOnly\": 1, \"dateColumnNames\": [\"collection_week\"], \"FilePath\": \"/FileStore/platform/extra/665f0ccf699c8a1e46d3bbea1717505377/0part.csv\", \"requestRatio\": 1.0, \"totalRows\": 742, \"BasicStats\": {\"missingValues\": 0.0, \"numberOfColumns\": 21, \"numberOfRows\": 742, \"duplicateRowCount\": 0, \"stats\": [{\"column\": \"collection_week\", \"alias\": \"collection_week\", \"generated\": 0, \"type\": \"date\", \"max\": \"2023210\", \"min\": \"2020320\", \"mean\": \"\", \"missing\": 0.0, \"stddev\": \"\", \"outliers\": [], \"validation\": []}, {\"column\": \"state\", \"alias\": \"state\", \"generated\": 0, \"type\": \"String\", \"max\": \"WY\", \"min\": \"AK\", \"mean\": \"\", \"missing\": 0.0, \"stddev\": \"\", \"outliers\": [], \"validation\": []}, {\"column\": \"city\", \"alias\": \"city\", \"generated\": 0, \"type\": \"String\", \"max\": \"ZION\", \"min\": \"0\", \"mean\": \"\", \"missing\": 0.0, \"stddev\": \"\", \"outliers\": [], \"validation\": []}, {\"column\": \"hospital_subtype\", \"alias\": \"hospital_subtype\", \"generated\": 0, \"type\": \"String\", \"max\": \"Short Term\", \"min\": \"Childrens Hospitals\", \"mean\": \"\", \"missing\": 0.0, \"stddev\": \"\", \"outliers\": [], \"validation\": []}, {\"column\": \"fips_code\", \"alias\": \"fips_code\", \"generated\": 0, \"type\": \"numeric\", \"max\": 72153, \"min\": 0, \"mean\": 29603.361185983827, \"missing\": 0.0, \"stddev\": 16373.18, \"outliers\": [], \"validation\": []}, {\"column\": \"is_metro_micro\", \"alias\": \"is_metro_micro\", \"generated\": 0, \"type\": \"numeric\", \"max\": 1, \"min\": 0, \"mean\": 0.8032345013477089, \"missing\": 0.0, \"stddev\": 0.4, \"outliers\": [0, 0, 0, 0, 0, 0, 0, 0, 0, 0, 0, 0, 0, 0, 0, 0, 0, 0, 0, 0, 0, 0, 0, 0, 0, 0, 0, 0, 0, 0, 0, 0, 0, 0, 0, 0, 0, 0, 0, 0, 0, 0, 0, 0, 0, 0, 0, 0, 0, 0, 0, 0, 0, 0, 0, 0, 0, 0, 0, 0, 0, 0, 0, 0, 0, 0, 0, 0, 0, 0, 0, 0, 0, 0, 0, 0, 0, 0, 0, 0, 0, 0, 0, 0, 0, 0, 0, 0, 0, 0, 0, 0, 0, 0, 0, 0, 0, 0, 0, 0, 0, 0, 0, 0, 0, 0, 0, 0, 0, 0, 0, 0, 0, 0, 0, 0, 0, 0, 0, 0, 0, 0, 0, 0, 0, 0, 0, 0, 0, 0, 0, 0, 0, 0, 0, 0, 0, 0, 0, 0, 0, 0, 0, 0, 0, 0], \"validation\": []}, {\"column\": \"total_beds_7_day_avg\", \"alias\": \"total_beds_7_day_avg\", \"generated\": 0, \"type\": \"real\", \"max\": 2302.4, \"min\": 0.0, \"mean\": 144.96010781671157, \"missing\": 0.0, \"stddev\": 234.5, \"outliers\": [669.6, 648.6, 461.1, 590.1, 542.0, 1721.0, 2302.4, 426.0, 483.0, 544.0, 1346.8, 811.0, 540.0, 515.0, 679.0, 565.3, 711.0, 524.0, 501.6, 612.7, 799.1, 476.0, 518.0, 732.9, 651.4, 803.0, 891.0, 1379.0, 455.0, 457.0, 913.0, 813.0, 727.0, 584.0, 1014.9, 823.0, 657.0, 523.0, 1176.0, 419.0, 1066.4, 698.0, 1444.4, 640.0, 1052.0, 510.6, 724.0, 492.0, 457.0, 633.1, 659.0, 581.0, 823.0, 483.9, 533.0, 444.0, 434.0, 1580.0, 502.7, 631.4, 820.0, 979.0, 668.4, 540.0, 522.4, 432.0, 427.0, 525.4], \"validation\": []}, {\"column\": \"inpatient_beds_used_covid_7_day_avg\", \"alias\": \"inpatient_beds_used_covid_7_day_avg\", \"generated\": 0, \"type\": \"real\", \"max\": 429.0, \"min\": 0.0, \"mean\": 9.678032345013477, \"missing\": 0.0, \"stddev\": 24.64, \"outliers\": [60.6, 203.1, 26.5, 35.0, 58.9, 39.7, 64.7, 71.1, 34.1, 32.6, 38.0, 89.6, 429.0, 154.1, 31.0, 27.8, 24.9, 33.4, 26.3, 39.7, 27.1, 44.4, 37.0, 127.0, 97.7, 75.9, 63.5, 40.1, 38.1, 48.3, 73.0, 41.4, 51.6, 31.4, 28.4, 48.0, 33.3, 60.9, 51.1, 49.0, 55.0, 38.0, 66.3, 107.3, 70.4, 53.9, 168.6, 36.7, 35.7, 44.1, 33.1, 46.4, 27.6, 50.4, 30.6, 31.9, 27.3, 36.7, 101.6, 66.2, 54.6, 30.3, 47.0, 33.6, 33.6, 49.0, 28.0, 58.4, 110.7, 32.4, 26.7, 32.0, 27.6, 52.6, 30.4, 30.4, 35.3, 26.1, 26.7], \"validation\": []}, {\"column\": \"total_beds_7_day_sum\", \"alias\": \"total_beds_7_day_sum\", \"generated\": 0, \"type\": \"numeric\", \"max\": 16117, \"min\": 0, \"mean\": 963.5646900269542, \"missing\": 0.0, \"stddev\": 1586.6, \"outliers\": [4687, 4540, 2856, 3228, 4131, 3794, 12047, 16117, 2982, 2849, 3381, 3808, 5387, 3780, 3605, 3395, 3957, 3668, 3511, 4289, 5594, 3332, 3626, 5130, 4560, 5621, 6237, 9653, 3185, 3199, 6391, 5089, 4088, 7104, 5761, 4599, 3661, 8232, 2933, 7465, 4886, 10111, 7364, 3574, 5068, 3444, 3199, 4432, 2921, 4613, 4067, 5761, 3387, 3731, 3108, 11060, 3519, 4420, 5740, 6853, 4679, 3780, 3657, 3024, 2989, 3678], \"validation\": []}, {\"column\": \"all_adult_hospital_beds_7_day_sum\", \"alias\": \"all_adult_hospital_beds_7_day_sum\", \"generated\": 0, \"type\": \"numeric\", \"max\": 13517, \"min\": 0, \"mean\": 780.2991913746631, \"missing\": 0.0, \"stddev\": 1362.19, \"outliers\": [2317, 4270, 4421, 2485, 3190, 3559, 2744, 3794, 2625, 13517, 2730, 2464, 3381, 2772, 3479, 9764, 2563, 3514, 3003, 3315, 3731, 3668, 2865, 4177, 4530, 3332, 3374, 2603, 4093, 4829, 5103, 2727, 9275, 3185, 4760, 3780, 2702, 5432, 5278, 3458, 2709, 6482, 2695, 2667, 5899, 4172, 2646, 2628, 8123, 3308, 4230, 3073, 2506, 3959, 2399, 3696, 2324, 4578, 3002, 2982, 2421, 3038, 2338, 10957, 2980, 3977, 5446, 6853, 2772, 4238, 3514, 3412, 3024, 2314, 3643], \"validation\": []}, {\"column\": \"all_adult_hospital_inpatient_beds_7_day_sum\", \"alias\": \"all_adult_hospital_inpatient_beds_7_day_sum\", \"generated\": 0, \"type\": \"numeric\", \"max\": 11270, \"min\": 0, \"mean\": 769.9056603773585, \"missing\": 0.0, \"stddev\": 1202.16, \"outliers\": [4165, 4421, 2485, 2889, 3098, 2688, 6067, 11270, 2429, 2415, 3017, 2492, 2415, 6691, 3003, 3311, 3311, 2494, 3519, 3409, 2990, 2907, 2919, 2346, 2698, 2790, 2701, 4319, 2468, 8561, 2849, 3997, 3430, 9142, 2303, 5432, 5278, 3129, 6482, 5899, 3244, 6373, 3308, 3761, 2863, 2399, 3213, 3446, 2324, 3605, 2258, 2736, 2702, 2548, 8184, 3842, 4872, 6328, 3794, 3412, 2688, 2314, 3116], \"validation\": []}, {\"column\": \"inpatient_beds_used_covid_7_day_sum\", \"alias\": \"inpatient_beds_used_covid_7_day_sum\", \"generated\": 0, \"type\": \"numeric\", \"max\": 3003, \"min\": 0, \"mean\": 68.81536388140162, \"missing\": 0.0, \"stddev\": 170.14, \"outliers\": [168, 424, 1422, 245, 412, 167, 278, 453, 498, 239, 228, 266, 627, 3003, 1079, 217, 167, 174, 234, 184, 278, 190, 311, 889, 684, 531, 381, 281, 267, 338, 511, 290, 165, 361, 220, 199, 336, 233, 426, 358, 343, 385, 266, 464, 751, 493, 377, 1180, 257, 214, 309, 232, 325, 193, 172, 353, 214, 223, 191, 711, 397, 382, 166, 212, 168, 235, 343, 170, 196, 166, 409, 775, 227, 187, 224, 368, 213, 213, 247, 183, 187], \"validation\": []}, {\"column\": \"total_adult_patients_hospitalized_confirmed_and_suspected_covid_7_day_sum\", \"alias\": \"total_adult_patients_hospitalized_confirmed_and_suspected_covid_7_day_sum\", \"generated\": 0, \"type\": \"numeric\", \"max\": 2621, \"min\": 0, \"mean\": 60.39083557951483, \"missing\": 0.0, \"stddev\": 155.89, \"outliers\": [168, 419, 150, 1392, 245, 408, 164, 277, 453, 498, 239, 205, 258, 625, 2621, 1030, 217, 167, 174, 170, 160, 276, 190, 149, 307, 889, 527, 162, 155, 281, 267, 282, 150, 149, 279, 165, 361, 208, 198, 332, 426, 342, 385, 266, 464, 742, 493, 1176, 257, 308, 232, 325, 149, 181, 171, 279, 201, 223, 187, 679, 397, 160, 203, 168, 151, 150, 232, 153, 343, 170, 196, 166, 378, 745, 227, 187, 224, 163, 368, 154, 205, 207, 246, 157, 186], \"validation\": []}, {\"column\": \"total_adult_patients_hospitalized_confirmed_covid_7_day_sum\", \"alias\": \"total_adult_patients_hospitalized_confirmed_covid_7_day_sum\", \"generated\": 0, \"type\": \"numeric\", \"max\": 1445, \"min\": 0, \"mean\": 52.200808625336926, \"missing\": 0.0, \"stddev\": 127.05, \"outliers\": [141, 154, 383, 143, 1356, 229, 330, 146, 236, 448, 133, 490, 238, 175, 150, 130, 561, 1445, 982, 216, 146, 137, 172, 137, 157, 273, 172, 146, 305, 889, 145, 369, 135, 154, 246, 257, 147, 148, 195, 155, 361, 198, 141, 200, 356, 336, 383, 159, 433, 742, 138, 485, 1061, 253, 132, 306, 216, 320, 143, 180, 171, 277, 156, 165, 176, 627, 396, 152, 203, 143, 206, 336, 167, 191, 165, 351, 728, 227, 142, 195, 368, 136, 188, 242, 144], \"validation\": []}, {\"column\": \"inpatient_beds_7_day_sum\", \"alias\": \"inpatient_beds_7_day_sum\", \"generated\": 0, \"type\": \"numeric\", \"max\": 13811, \"min\": 0, \"mean\": 925.4528301886793, \"missing\": 0.0, \"stddev\": 1374.86, \"outliers\": [4582, 4421, 2856, 2927, 3567, 3241, 7701, 13811, 2681, 3017, 3808, 3842, 3633, 3605, 3432, 3311, 3007, 3631, 4473, 3116, 3417, 3171, 5060, 3165, 2790, 3037, 4907, 8939, 2849, 3199, 2996, 4249, 3738, 10416, 6285, 5761, 3899, 3325, 7616, 7388, 3958, 8361, 6748, 3574, 4459, 3234, 3199, 2890, 3584, 3693, 4788, 3121, 3395, 8287, 4285, 5292, 6328, 4265, 3633, 3520, 2688, 3118], \"validation\": []}, {\"column\": \"total_icu_beds_7_day_sum\", \"alias\": \"total_icu_beds_7_day_sum\", \"generated\": 0, \"type\": \"numeric\", \"max\": 2471, \"min\": 0, \"mean\": 147.05390835579516, \"missing\": 0.0, \"stddev\": 288.46, \"outliers\": [588, 581, 428, 1054, 714, 728, 616, 504, 553, 707, 392, 472, 1093, 2471, 350, 539, 385, 784, 1323, 464, 728, 483, 525, 448, 1302, 357, 468, 518, 1204, 384, 391, 672, 686, 579, 1192, 713, 431, 700, 1330, 476, 2107, 364, 2240, 476, 378, 2170, 1113, 854, 924, 560, 777, 399, 476, 518, 805, 357, 609, 540, 378, 740, 560, 378, 2228, 693, 1253, 458, 646, 791, 1127, 496, 847, 469, 594, 1526, 371, 651, 665, 364, 378, 378, 1370, 973, 645, 721, 1505, 378, 791, 693, 399, 463], \"validation\": []}, {\"column\": \"total_staffed_adult_icu_beds_7_day_sum\", \"alias\": \"total_staffed_adult_icu_beds_7_day_sum\", \"generated\": 0, \"type\": \"numeric\", \"max\": 1729, \"min\": 0, \"mean\": 100.32749326145553, \"missing\": 0.0, \"stddev\": 195.4, \"outliers\": [476, 812, 728, 273, 294, 441, 413, 553, 315, 806, 1526, 280, 385, 616, 1323, 382, 728, 294, 330, 448, 300, 357, 292, 490, 595, 266, 265, 308, 372, 579, 349, 431, 469, 784, 476, 1729, 364, 378, 301, 322, 299, 1421, 315, 742, 707, 308, 581, 476, 308, 805, 320, 280, 569, 301, 304, 378, 740, 350, 315, 378, 1248, 296, 511, 476, 532, 308, 290, 322, 336, 406, 686, 274, 371, 357, 280, 1370, 700, 665, 1505, 331, 378, 616, 525, 325, 399, 265, 296], \"validation\": []}, {\"column\": \"icu_beds_used_7_day_sum\", \"alias\": \"icu_beds_used_7_day_sum\", \"generated\": 0, \"type\": \"numeric\", \"max\": 1951, \"min\": 0, \"mean\": 95.50404312668464, \"missing\": 0.0, \"stddev\": 210.08, \"outliers\": [467, 307, 877, 438, 630, 491, 235, 458, 272, 454, 738, 1951, 241, 334, 603, 1165, 397, 478, 276, 444, 296, 256, 985, 387, 269, 396, 924, 280, 388, 447, 486, 412, 253, 502, 1072, 420, 1911, 276, 335, 641, 236, 260, 269, 263, 280, 1638, 277, 885, 561, 739, 252, 355, 315, 724, 310, 588, 276, 263, 652, 459, 295, 293, 1834, 272, 441, 511, 642, 582, 277, 252, 495, 438, 470, 918, 269, 301, 537, 409, 238, 259, 270, 1266, 235, 682, 616, 958, 328, 323, 477, 504, 240, 293, 234], \"validation\": []}, {\"column\": \"staffed_icu_adult_patients_confirmed_and_suspected_covid_7_day_sum\", \"alias\": \"staffed_icu_adult_patients_confirmed_and_suspected_covid_7_day_sum\", \"generated\": 0, \"type\": \"numeric\", \"max\": 453, \"min\": 0, \"mean\": 12.884097035040432, \"missing\": 0.0, \"stddev\": 34.86, \"outliers\": [54, 56, 47, 42, 453, 81, 121, 54, 40, 49, 89, 47, 31, 39, 63, 38, 129, 367, 138, 43, 45, 38, 31, 47, 40, 35, 33, 31, 65, 79, 81, 50, 93, 38, 65, 61, 46, 31, 33, 43, 87, 45, 74, 32, 77, 63, 76, 48, 44, 45, 47, 83, 36, 108, 41, 130, 38, 155, 48, 36, 234, 30, 35, 240, 36, 37, 50, 47, 115, 47, 35, 41, 40, 78, 60, 350, 75, 38, 36, 30, 82, 33, 129, 49, 81, 43, 95, 35, 106, 48, 44, 63, 122, 32, 60, 58, 88, 37, 35, 47, 54, 45], \"validation\": []}, {\"column\": \"staffed_icu_adult_patients_confirmed_covid_7_day_sum\", \"alias\": \"staffed_icu_adult_patients_confirmed_covid_7_day_sum\", \"generated\": 0, \"type\": \"numeric\", \"max\": 453, \"min\": 0, \"mean\": 11.664420485175203, \"missing\": 0.0, \"stddev\": 32.27, \"outliers\": [54, 56, 46, 42, 453, 77, 95, 54, 29, 36, 49, 27, 89, 39, 31, 39, 56, 38, 26, 112, 213, 130, 43, 43, 38, 31, 46, 40, 33, 27, 65, 28, 25, 79, 80, 50, 93, 26, 37, 54, 61, 29, 31, 33, 26, 25, 71, 45, 64, 29, 77, 63, 28, 50, 45, 44, 43, 46, 83, 31, 106, 36, 27, 130, 38, 26, 151, 48, 36, 231, 28, 239, 36, 37, 49, 115, 46, 35, 41, 40, 77, 29, 60, 341, 75, 38, 36, 30, 78, 27, 32, 129, 49, 81, 42, 89, 28, 105, 48, 26, 29, 36, 38, 122, 32, 57, 69, 33, 35, 45, 54, 40], \"validation\": []}, {\"column\": \"previous_day_covid_ED_visits_7_day_sum\", \"alias\": \"previous_day_covid_ED_visits_7_day_sum\", \"generated\": 0, \"type\": \"numeric\", \"max\": 2784, \"min\": 0, \"mean\": 63.52156334231806, \"missing\": 0.0, \"stddev\": 147.16, \"outliers\": [587, 320, 572, 458, 187, 219, 617, 239, 316, 308, 384, 224, 590, 308, 195, 2784, 253, 259, 177, 178, 209, 197, 176, 291, 223, 232, 494, 459, 923, 355, 274, 190, 443, 337, 286, 240, 358, 222, 217, 209, 449, 416, 419, 328, 454, 731, 228, 332, 234, 176, 234, 307, 180, 429, 212, 172, 356, 273, 182, 321, 641, 290, 342, 215, 291, 204, 566, 388, 223, 282, 314, 399, 286, 253, 369, 205], \"validation\": []}]}, \"predictionPowerScore\": [{\"all_adult_hospital_beds_7_day_sum\": 1.0, \"all_adult_hospital_inpatient_beds_7_day_sum\": 0.5064115624, \"city\": 0.0, \"collection_week\": 0.0, \"fips_code\": 0.0, \"hospital_subtype\": 0.0, \"icu_beds_used_7_day_sum\": 0.2252273195, \"inpatient_beds_7_day_sum\": 0.3400870584, \"inpatient_beds_used_covid_7_day_avg\": 0.0, \"inpatient_beds_used_covid_7_day_sum\": 0.0, \"is_metro_micro\": 0.0, \"previous_day_covid_ED_visits_7_day_sum\": 0.0, \"staffed_icu_adult_patients_confirmed_and_suspected_covid_7_day_sum\": 0.0, \"staffed_icu_adult_patients_confirmed_covid_7_day_sum\": 0.0229745776, \"state\": 0.0, \"total_adult_patients_hospitalized_confirmed_and_suspected_covid_7_day_sum\": 0.0, \"total_adult_patients_hospitalized_confirmed_covid_7_day_sum\": 0.0, \"total_beds_7_day_avg\": 0.5101541588, \"total_beds_7_day_sum\": 0.5810530419, \"total_icu_beds_7_day_sum\": 0.1166841425, \"total_staffed_adult_icu_beds_7_day_sum\": 0.3894622838}, {\"all_adult_hospital_beds_7_day_sum\": 0.5963986762, \"all_adult_hospital_inpatient_beds_7_day_sum\": 1.0, \"city\": 0.0, \"collection_week\": 0.0, \"fips_code\": 0.0, \"hospital_subtype\": 0.0473462709, \"icu_beds_used_7_day_sum\": 0.3988879976, \"inpatient_beds_7_day_sum\": 0.6705809819, \"inpatient_beds_used_covid_7_day_avg\": 0.0, \"inpatient_beds_used_covid_7_day_sum\": 0.0223810455, \"is_metro_micro\": 0.0, \"previous_day_covid_ED_visits_7_day_sum\": 0.0, \"staffed_icu_adult_patients_confirmed_and_suspected_covid_7_day_sum\": 0.0883874473, \"staffed_icu_adult_patients_confirmed_covid_7_day_sum\": 0.0847027204, \"state\": 0.0, \"total_adult_patients_hospitalized_confirmed_and_suspected_covid_7_day_sum\": 0.0321177173, \"total_adult_patients_hospitalized_confirmed_covid_7_day_sum\": 0.1131076836, \"total_beds_7_day_avg\": 0.3653283984, \"total_beds_7_day_sum\": 0.406685697, \"total_icu_beds_7_day_sum\": 0.3189972286, \"total_staffed_adult_icu_beds_7_day_sum\": 0.554539309}, {\"all_adult_hospital_beds_7_day_sum\": 0.0109688716, \"all_adult_hospital_inpatient_beds_7_day_sum\": 0.0179198029, \"city\": 1.0, \"collection_week\": 0.0, \"fips_code\": 0.2172073899, \"hospital_subtype\": 0.0001208282, \"icu_beds_used_7_day_sum\": 0.0023068375, \"inpatient_beds_7_day_sum\": 0.0180091425, \"inpatient_beds_used_covid_7_day_avg\": 0.0, \"inpatient_beds_used_covid_7_day_sum\": 0.0, \"is_metro_micro\": 1.8498e-06, \"previous_day_covid_ED_visits_7_day_sum\": 0.0023066752, \"staffed_icu_adult_patients_confirmed_and_suspected_covid_7_day_sum\": 0.000554066, \"staffed_icu_adult_patients_confirmed_covid_7_day_sum\": 0.0, \"state\": 0.0491409816, \"total_adult_patients_hospitalized_confirmed_and_suspected_covid_7_day_sum\": 0.0, \"total_adult_patients_hospitalized_confirmed_covid_7_day_sum\": 0.0026623246, \"total_beds_7_day_avg\": 0.0148539835, \"total_beds_7_day_sum\": 0.0154586673, \"total_icu_beds_7_day_sum\": 0.0098015144, \"total_staffed_adult_icu_beds_7_day_sum\": 0.0109819948}, {\"all_adult_hospital_beds_7_day_sum\": 0.0, \"all_adult_hospital_inpatient_beds_7_day_sum\": 0.0, \"city\": 0.0, \"collection_week\": 1.0, \"fips_code\": 0.0, \"hospital_subtype\": 0.0, \"icu_beds_used_7_day_sum\": 0.0, \"inpatient_beds_7_day_sum\": 0.0, \"inpatient_beds_used_covid_7_day_avg\": 0.0, \"inpatient_beds_used_covid_7_day_sum\": 0.0, \"is_metro_micro\": 0.0, \"previous_day_covid_ED_visits_7_day_sum\": 0.0, \"staffed_icu_adult_patients_confirmed_and_suspected_covid_7_day_sum\": 0.0, \"staffed_icu_adult_patients_confirmed_covid_7_day_sum\": 0.0, \"state\": 0.0, \"total_adult_patients_hospitalized_confirmed_and_suspected_covid_7_day_sum\": 0.0, \"total_adult_patients_hospitalized_confirmed_covid_7_day_sum\": 0.0, \"total_beds_7_day_avg\": 0.0, \"total_beds_7_day_sum\": 0.0, \"total_icu_beds_7_day_sum\": 0.0, \"total_staffed_adult_icu_beds_7_day_sum\": 0.0}, {\"all_adult_hospital_beds_7_day_sum\": 0.0, \"all_adult_hospital_inpatient_beds_7_day_sum\": 0.0, \"city\": 0.1945222855, \"collection_week\": 0.0, \"fips_code\": 1.0, \"hospital_subtype\": 0.0, \"icu_beds_used_7_day_sum\": 0.0, \"inpatient_beds_7_day_sum\": 0.0, \"inpatient_beds_used_covid_7_day_avg\": 0.0, \"inpatient_beds_used_covid_7_day_sum\": 0.0, \"is_metro_micro\": 0.0, \"previous_day_covid_ED_visits_7_day_sum\": 0.0, \"staffed_icu_adult_patients_confirmed_and_suspected_covid_7_day_sum\": 0.0, \"staffed_icu_adult_patients_confirmed_covid_7_day_sum\": 0.0, \"state\": 0.9691267432, \"total_adult_patients_hospitalized_confirmed_and_suspected_covid_7_day_sum\": 0.0, \"total_adult_patients_hospitalized_confirmed_covid_7_day_sum\": 0.0, \"total_beds_7_day_avg\": 0.0, \"total_beds_7_day_sum\": 0.0, \"total_icu_beds_7_day_sum\": 0.0, \"total_staffed_adult_icu_beds_7_day_sum\": 0.0}, {\"all_adult_hospital_beds_7_day_sum\": 0.4051676835, \"all_adult_hospital_inpatient_beds_7_day_sum\": 0.477134206, \"city\": 0.0848440007, \"collection_week\": 0.0, \"fips_code\": 0.1742058434, \"hospital_subtype\": 1.0, \"icu_beds_used_7_day_sum\": 0.2996499331, \"inpatient_beds_7_day_sum\": 0.4479462379, \"inpatient_beds_used_covid_7_day_avg\": 0.0, \"inpatient_beds_used_covid_7_day_sum\": 0.2515415755, \"is_metro_micro\": 0.4311262376, \"previous_day_covid_ED_visits_7_day_sum\": 0.0803097706, \"staffed_icu_adult_patients_confirmed_and_suspected_covid_7_day_sum\": 0.0, \"staffed_icu_adult_patients_confirmed_covid_7_day_sum\": 0.0, \"state\": 0.266101448, \"total_adult_patients_hospitalized_confirmed_and_suspected_covid_7_day_sum\": 0.0430632159, \"total_adult_patients_hospitalized_confirmed_covid_7_day_sum\": 0.0, \"total_beds_7_day_avg\": 0.4195496752, \"total_beds_7_day_sum\": 0.4290562989, \"total_icu_beds_7_day_sum\": 0.3868841197, \"total_staffed_adult_icu_beds_7_day_sum\": 0.3390001768}, {\"all_adult_hospital_beds_7_day_sum\": 0.2541462369, \"all_adult_hospital_inpatient_beds_7_day_sum\": 0.4169789347, \"city\": 0.0, \"collection_week\": 0.0, \"fips_code\": 0.0, \"hospital_subtype\": 0.0, \"icu_beds_used_7_day_sum\": 1.0, \"inpatient_beds_7_day_sum\": 0.4123431449, \"inpatient_beds_used_covid_7_day_avg\": 0.0, \"inpatient_beds_used_covid_7_day_sum\": 0.0, \"is_metro_micro\": 0.0, \"previous_day_covid_ED_visits_7_day_sum\": 0.0, \"staffed_icu_adult_patients_confirmed_and_suspected_covid_7_day_sum\": 0.0, \"staffed_icu_adult_patients_confirmed_covid_7_day_sum\": 0.0, \"state\": 0.0, \"total_adult_patients_hospitalized_confirmed_and_suspected_covid_7_day_sum\": 0.0, \"total_adult_patients_hospitalized_confirmed_covid_7_day_sum\": 0.0, \"total_beds_7_day_avg\": 0.1927687339, \"total_beds_7_day_sum\": 0.231564848, \"total_icu_beds_7_day_sum\": 0.5973058477, \"total_staffed_adult_icu_beds_7_day_sum\": 0.5658264817}, {\"all_adult_hospital_beds_7_day_sum\": 0.5060532881, \"all_adult_hospital_inpatient_beds_7_day_sum\": 0.7396094469, \"city\": 0.0, \"collection_week\": 0.0, \"fips_code\": 0.0, \"hospital_subtype\": 0.050503522, \"icu_beds_used_7_day_sum\": 0.3783308132, \"inpatient_beds_7_day_sum\": 1.0, \"inpatient_beds_used_covid_7_day_avg\": 0.0, \"inpatient_beds_used_covid_7_day_sum\": 0.0307757395, \"is_metro_micro\": 0.0, \"previous_day_covid_ED_visits_7_day_sum\": 0.0, \"staffed_icu_adult_patients_confirmed_and_suspected_covid_7_day_sum\": 0.0342813814, \"staffed_icu_adult_patients_confirmed_covid_7_day_sum\": 0.0199756093, \"state\": 0.0, \"total_adult_patients_hospitalized_confirmed_and_suspected_covid_7_day_sum\": 0.0, \"total_adult_patients_hospitalized_confirmed_covid_7_day_sum\": 0.0118726402, \"total_beds_7_day_avg\": 0.5949479409, \"total_beds_7_day_sum\": 0.6681921299, \"total_icu_beds_7_day_sum\": 0.4729908326, \"total_staffed_adult_icu_beds_7_day_sum\": 0.4136847475}, {\"all_adult_hospital_beds_7_day_sum\": 0.0, \"all_adult_hospital_inpatient_beds_7_day_sum\": 0.0, \"city\": 0.0, \"collection_week\": 0.0, \"fips_code\": 0.0, \"hospital_subtype\": 0.0, \"icu_beds_used_7_day_sum\": 0.0, \"inpatient_beds_7_day_sum\": 0.0, \"inpatient_beds_used_covid_7_day_avg\": 1.0, \"inpatient_beds_used_covid_7_day_sum\": 0.8831045276, \"is_metro_micro\": 0.0, \"previous_day_covid_ED_visits_7_day_sum\": 0.0, \"staffed_icu_adult_patients_confirmed_and_suspected_covid_7_day_sum\": 0.2021594086, \"staffed_icu_adult_patients_confirmed_covid_7_day_sum\": 0.2318841323, \"state\": 0.0, \"total_adult_patients_hospitalized_confirmed_and_suspected_covid_7_day_sum\": 0.6921939575, \"total_adult_patients_hospitalized_confirmed_covid_7_day_sum\": 0.5391556036, \"total_beds_7_day_avg\": 0.0, \"total_beds_7_day_sum\": 0.0, \"total_icu_beds_7_day_sum\": 0.0, \"total_staffed_adult_icu_beds_7_day_sum\": 0.0}, {\"all_adult_hospital_beds_7_day_sum\": 0.0, \"all_adult_hospital_inpatient_beds_7_day_sum\": 0.0, \"city\": 0.0, \"collection_week\": 0.0, \"fips_code\": 0.0, \"hospital_subtype\": 0.0, \"icu_beds_used_7_day_sum\": 0.0, \"inpatient_beds_7_day_sum\": 0.0, \"inpatient_beds_used_covid_7_day_avg\": 0.8394399522, \"inpatient_beds_used_covid_7_day_sum\": 1.0, \"is_metro_micro\": 0.0, \"previous_day_covid_ED_visits_7_day_sum\": 0.0, \"staffed_icu_adult_patients_confirmed_and_suspected_covid_7_day_sum\": 0.2452264269, \"staffed_icu_adult_patients_confirmed_covid_7_day_sum\": 0.2790854373, \"state\": 0.0, \"total_adult_patients_hospitalized_confirmed_and_suspected_covid_7_day_sum\": 0.7423769009, \"total_adult_patients_hospitalized_confirmed_covid_7_day_sum\": 0.5863845772, \"total_beds_7_day_avg\": 0.0, \"total_beds_7_day_sum\": 0.0, \"total_icu_beds_7_day_sum\": 0.0, \"total_staffed_adult_icu_beds_7_day_sum\": 0.0}, {\"all_adult_hospital_beds_7_day_sum\": 0.0, \"all_adult_hospital_inpatient_beds_7_day_sum\": 0.0, \"city\": 0.0582831063, \"collection_week\": 0.0, \"fips_code\": 0.0, \"hospital_subtype\": 0.0, \"icu_beds_used_7_day_sum\": 0.0, \"inpatient_beds_7_day_sum\": 0.0, \"inpatient_beds_used_covid_7_day_avg\": 0.0, \"inpatient_beds_used_covid_7_day_sum\": 0.0, \"is_metro_micro\": 1.0, \"previous_day_covid_ED_visits_7_day_sum\": 0.0, \"staffed_icu_adult_patients_confirmed_and_suspected_covid_7_day_sum\": 0.0, \"staffed_icu_adult_patients_confirmed_covid_7_day_sum\": 0.0, \"state\": 0.0, \"total_adult_patients_hospitalized_confirmed_and_suspected_covid_7_day_sum\": 0.0, \"total_adult_patients_hospitalized_confirmed_covid_7_day_sum\": 0.0, \"total_beds_7_day_avg\": 0.0, \"total_beds_7_day_sum\": 0.0, \"total_icu_beds_7_day_sum\": 0.0, \"total_staffed_adult_icu_beds_7_day_sum\": 0.0}, {\"all_adult_hospital_beds_7_day_sum\": 0.0, \"all_adult_hospital_inpatient_beds_7_day_sum\": 0.0, \"city\": 0.0, \"collection_week\": 0.0, \"fips_code\": 0.0, \"hospital_subtype\": 0.0, \"icu_beds_used_7_day_sum\": 0.0, \"inpatient_beds_7_day_sum\": 0.0, \"inpatient_beds_used_covid_7_day_avg\": 0.0, \"inpatient_beds_used_covid_7_day_sum\": 0.0, \"is_metro_micro\": 0.0, \"previous_day_covid_ED_visits_7_day_sum\": 1.0, \"staffed_icu_adult_patients_confirmed_and_suspected_covid_7_day_sum\": 0.0, \"staffed_icu_adult_patients_confirmed_covid_7_day_sum\": 0.0, \"state\": 0.0, \"total_adult_patients_hospitalized_confirmed_and_suspected_covid_7_day_sum\": 0.0, \"total_adult_patients_hospitalized_confirmed_covid_7_day_sum\": 0.0, \"total_beds_7_day_avg\": 0.0, \"total_beds_7_day_sum\": 0.0, \"total_icu_beds_7_day_sum\": 0.0, \"total_staffed_adult_icu_beds_7_day_sum\": 0.0}, {\"all_adult_hospital_beds_7_day_sum\": 0.0, \"all_adult_hospital_inpatient_beds_7_day_sum\": 0.0, \"city\": 0.0, \"collection_week\": 0.0, \"fips_code\": 0.0, \"hospital_subtype\": 0.0, \"icu_beds_used_7_day_sum\": 0.0, \"inpatient_beds_7_day_sum\": 0.0, \"inpatient_beds_used_covid_7_day_avg\": 0.1508330836, \"inpatient_beds_used_covid_7_day_sum\": 0.1800758799, \"is_metro_micro\": 0.0, \"previous_day_covid_ED_visits_7_day_sum\": 0.0, \"staffed_icu_adult_patients_confirmed_and_suspected_covid_7_day_sum\": 1.0, \"staffed_icu_adult_patients_confirmed_covid_7_day_sum\": 0.799022235, \"state\": 0.0, \"total_adult_patients_hospitalized_confirmed_and_suspected_covid_7_day_sum\": 0.3482568399, \"total_adult_patients_hospitalized_confirmed_covid_7_day_sum\": 0.3673844674, \"total_beds_7_day_avg\": 0.0, \"total_beds_7_day_sum\": 0.0, \"total_icu_beds_7_day_sum\": 0.0, \"total_staffed_adult_icu_beds_7_day_sum\": 0.0}, {\"all_adult_hospital_beds_7_day_sum\": 0.0, \"all_adult_hospital_inpatient_beds_7_day_sum\": 0.0, \"city\": 0.0, \"collection_week\": 0.0, \"fips_code\": 0.0, \"hospital_subtype\": 0.0, \"icu_beds_used_7_day_sum\": 0.0, \"inpatient_beds_7_day_sum\": 0.0, \"inpatient_beds_used_covid_7_day_avg\": 0.0628070976, \"inpatient_beds_used_covid_7_day_sum\": 0.0896641732, \"is_metro_micro\": 0.0, \"previous_day_covid_ED_visits_7_day_sum\": 0.0, \"staffed_icu_adult_patients_confirmed_and_suspected_covid_7_day_sum\": 0.7752164524, \"staffed_icu_adult_patients_confirmed_covid_7_day_sum\": 1.0, \"state\": 0.0, \"total_adult_patients_hospitalized_confirmed_and_suspected_covid_7_day_sum\": 0.2872364666, \"total_adult_patients_hospitalized_confirmed_covid_7_day_sum\": 0.3107298266, \"total_beds_7_day_avg\": 0.0, \"total_beds_7_day_sum\": 0.0, \"total_icu_beds_7_day_sum\": 0.0, \"total_staffed_adult_icu_beds_7_day_sum\": 0.0}, {\"all_adult_hospital_beds_7_day_sum\": 0.0179414628, \"all_adult_hospital_inpatient_beds_7_day_sum\": 0.0306376898, \"city\": 0.2610613593, \"collection_week\": 0.0, \"fips_code\": 0.9952714576, \"hospital_subtype\": 0.0, \"icu_beds_used_7_day_sum\": 0.0088875608, \"inpatient_beds_7_day_sum\": 0.0193815484, \"inpatient_beds_used_covid_7_day_avg\": 0.0, \"inpatient_beds_used_covid_7_day_sum\": 0.0, \"is_metro_micro\": 0.0, \"previous_day_covid_ED_visits_7_day_sum\": 0.0033881026, \"staffed_icu_adult_patients_confirmed_and_suspected_covid_7_day_sum\": 0.0, \"staffed_icu_adult_patients_confirmed_covid_7_day_sum\": 0.0, \"state\": 1.0, \"total_adult_patients_hospitalized_confirmed_and_suspected_covid_7_day_sum\": 0.0031286545, \"total_adult_patients_hospitalized_confirmed_covid_7_day_sum\": 0.007570577, \"total_beds_7_day_avg\": 0.0055182756, \"total_beds_7_day_sum\": 0.0120320405, \"total_icu_beds_7_day_sum\": 0.0115722462, \"total_staffed_adult_icu_beds_7_day_sum\": 0.0078516423}, {\"all_adult_hospital_beds_7_day_sum\": 0.0, \"all_adult_hospital_inpatient_beds_7_day_sum\": 0.0, \"city\": 0.0, \"collection_week\": 0.0, \"fips_code\": 0.0, \"hospital_subtype\": 0.0, \"icu_beds_used_7_day_sum\": 0.0, \"inpatient_beds_7_day_sum\": 0.0, \"inpatient_beds_used_covid_7_day_avg\": 0.6180913156, \"inpatient_beds_used_covid_7_day_sum\": 0.7008972698, \"is_metro_micro\": 0.0, \"previous_day_covid_ED_visits_7_day_sum\": 0.0, \"staffed_icu_adult_patients_confirmed_and_suspected_covid_7_day_sum\": 0.3494129905, \"staffed_icu_adult_patients_confirmed_covid_7_day_sum\": 0.366836654, \"state\": 0.0, \"total_adult_patients_hospitalized_confirmed_and_suspected_covid_7_day_sum\": 1.0, \"total_adult_patients_hospitalized_confirmed_covid_7_day_sum\": 0.7521889629, \"total_beds_7_day_avg\": 0.0, \"total_beds_7_day_sum\": 0.0, \"total_icu_beds_7_day_sum\": 0.0, \"total_staffed_adult_icu_beds_7_day_sum\": 0.082639142}, {\"all_adult_hospital_beds_7_day_sum\": 0.0, \"all_adult_hospital_inpatient_beds_7_day_sum\": 0.0, \"city\": 0.0, \"collection_week\": 0.0, \"fips_code\": 0.0, \"hospital_subtype\": 0.0, \"icu_beds_used_7_day_sum\": 0.0, \"inpatient_beds_7_day_sum\": 0.0, \"inpatient_beds_used_covid_7_day_avg\": 0.5040881458, \"inpatient_beds_used_covid_7_day_sum\": 0.5806540623, \"is_metro_micro\": 0.0, \"previous_day_covid_ED_visits_7_day_sum\": 0.0, \"staffed_icu_adult_patients_confirmed_and_suspected_covid_7_day_sum\": 0.4002898908, \"staffed_icu_adult_patients_confirmed_covid_7_day_sum\": 0.3866769167, \"state\": 0.0, \"total_adult_patients_hospitalized_confirmed_and_suspected_covid_7_day_sum\": 0.783699281, \"total_adult_patients_hospitalized_confirmed_covid_7_day_sum\": 1.0, \"total_beds_7_day_avg\": 0.0, \"total_beds_7_day_sum\": 0.0, \"total_icu_beds_7_day_sum\": 0.0, \"total_staffed_adult_icu_beds_7_day_sum\": 0.056676602}, {\"all_adult_hospital_beds_7_day_sum\": 0.615587542, \"all_adult_hospital_inpatient_beds_7_day_sum\": 0.3530268073, \"city\": 0.0, \"collection_week\": 0.0, \"fips_code\": 0.0, \"hospital_subtype\": 0.0085343021, \"icu_beds_used_7_day_sum\": 0.1623494718, \"inpatient_beds_7_day_sum\": 0.470176861, \"inpatient_beds_used_covid_7_day_avg\": 0.0, \"inpatient_beds_used_covid_7_day_sum\": 0.0, \"is_metro_micro\": 0.0, \"previous_day_covid_ED_visits_7_day_sum\": 0.0, \"staffed_icu_adult_patients_confirmed_and_suspected_covid_7_day_sum\": 0.0, \"staffed_icu_adult_patients_confirmed_covid_7_day_sum\": 0.0009927177, \"state\": 0.0, \"total_adult_patients_hospitalized_confirmed_and_suspected_covid_7_day_sum\": 0.0, \"total_adult_patients_hospitalized_confirmed_covid_7_day_sum\": 0.0, \"total_beds_7_day_avg\": 1.0, \"total_beds_7_day_sum\": 0.8882597193, \"total_icu_beds_7_day_sum\": 0.2676162066, \"total_staffed_adult_icu_beds_7_day_sum\": 0.2634027562}, {\"all_adult_hospital_beds_7_day_sum\": 0.6513028203, \"all_adult_hospital_inpatient_beds_7_day_sum\": 0.3841213156, \"city\": 0.0, \"collection_week\": 0.0, \"fips_code\": 0.0, \"hospital_subtype\": 0.0, \"icu_beds_used_7_day_sum\": 0.166833515, \"inpatient_beds_7_day_sum\": 0.5577241373, \"inpatient_beds_used_covid_7_day_avg\": 0.0, \"inpatient_beds_used_covid_7_day_sum\": 0.0, \"is_metro_micro\": 0.0, \"previous_day_covid_ED_visits_7_day_sum\": 0.0, \"staffed_icu_adult_patients_confirmed_and_suspected_covid_7_day_sum\": 0.0, \"staffed_icu_adult_patients_confirmed_covid_7_day_sum\": 0.0097494477, \"state\": 0.0, \"total_adult_patients_hospitalized_confirmed_and_suspected_covid_7_day_sum\": 0.0, \"total_adult_patients_hospitalized_confirmed_covid_7_day_sum\": 0.0, \"total_beds_7_day_avg\": 0.8649614424, \"total_beds_7_day_sum\": 1.0, \"total_icu_beds_7_day_sum\": 0.2816205989, \"total_staffed_adult_icu_beds_7_day_sum\": 0.269880646}, {\"all_adult_hospital_beds_7_day_sum\": 0.2400631814, \"all_adult_hospital_inpatient_beds_7_day_sum\": 0.324667174, \"city\": 0.0, \"collection_week\": 0.0, \"fips_code\": 0.0, \"hospital_subtype\": 0.0, \"icu_beds_used_7_day_sum\": 0.5963776933, \"inpatient_beds_7_day_sum\": 0.4592264669, \"inpatient_beds_used_covid_7_day_avg\": 0.0, \"inpatient_beds_used_covid_7_day_sum\": 0.0, \"is_metro_micro\": 0.0, \"previous_day_covid_ED_visits_7_day_sum\": 0.0, \"staffed_icu_adult_patients_confirmed_and_suspected_covid_7_day_sum\": 0.0, \"staffed_icu_adult_patients_confirmed_covid_7_day_sum\": 0.0, \"state\": 0.0, \"total_adult_patients_hospitalized_confirmed_and_suspected_covid_7_day_sum\": 0.0, \"total_adult_patients_hospitalized_confirmed_covid_7_day_sum\": 0.0, \"total_beds_7_day_avg\": 0.2876815177, \"total_beds_7_day_sum\": 0.3144324327, \"total_icu_beds_7_day_sum\": 1.0, \"total_staffed_adult_icu_beds_7_day_sum\": 0.5041219002}, {\"all_adult_hospital_beds_7_day_sum\": 0.4023081913, \"all_adult_hospital_inpatient_beds_7_day_sum\": 0.5750445314, \"city\": 0.0, \"collection_week\": 0.0, \"fips_code\": 0.0, \"hospital_subtype\": 0.0, \"icu_beds_used_7_day_sum\": 0.5693404386, \"inpatient_beds_7_day_sum\": 0.3892903975, \"inpatient_beds_used_covid_7_day_avg\": 0.0, \"inpatient_beds_used_covid_7_day_sum\": 0.0, \"is_metro_micro\": 0.0, \"previous_day_covid_ED_visits_7_day_sum\": 0.0, \"staffed_icu_adult_patients_confirmed_and_suspected_covid_7_day_sum\": 0.0439330233, \"staffed_icu_adult_patients_confirmed_covid_7_day_sum\": 0.0712508511, \"state\": 0.0, \"total_adult_patients_hospitalized_confirmed_and_suspected_covid_7_day_sum\": 0.0, \"total_adult_patients_hospitalized_confirmed_covid_7_day_sum\": 0.0306856395, \"total_beds_7_day_avg\": 0.2393947229, \"total_beds_7_day_sum\": 0.2806162185, \"total_icu_beds_7_day_sum\": 0.5188624096, \"total_staffed_adult_icu_beds_7_day_sum\": 1.0}], \"HasBasicStats\": 1, \"functionsApplied\": [{\"functionName\": \"transformDate\", \"applyOn\": [{\"columnName\": \"collection_week\", \"type\": \"date\", \"min\": \"2020320\", \"max\": \"2023210\", \"mean\": \"-\"}], \"functionsData\": [{\"column\": [{\"columnName\": \"collection_week\", \"type\": \"date\", \"min\": \"2020320\", \"max\": \"2023210\", \"mean\": \"-\"}], \"inputDateFormat\": \"MM/DD/YYYY\", \"outputDateFormat\": \"YYYY-MM-DD\", \"newColumn\": \"False\"}]}], \"functionChanges\": [{\"columnName\": \"collection_week\", \"functionName\": \"transformDate\", \"Type\": \"date\", \"Parameters\": [{\"column\": [{\"columnName\": \"collection_week\", \"type\": \"date\", \"min\": \"2020320\", \"max\": \"2023210\", \"mean\": \"-\"}], \"inputDateFormat\": \"MM/DD/YYYY\", \"outputDateFormat\": \"YYYY-MM-DD\", \"newColumn\": \"False\"}]}], \"fileheader\": [{\"field\": \"collection_week\", \"alias\": \"collection_week\", \"generated\": 0, \"position\": 1, \"type\": \"date\"}, {\"field\": \"state\", \"alias\": \"state\", \"generated\": 0, \"position\": 2, \"type\": \"String\"}, {\"field\": \"city\", \"alias\": \"city\", \"generated\": 0, \"position\": 3, \"type\": \"String\"}, {\"field\": \"hospital_subtype\", \"alias\": \"hospital_subtype\", \"generated\": 0, \"position\": 4, \"type\": \"String\"}, {\"field\": \"fips_code\", \"alias\": \"fips_code\", \"generated\": 0, \"position\": 5, \"type\": \"numeric\"}, {\"field\": \"is_metro_micro\", \"alias\": \"is_metro_micro\", \"generated\": 0, \"position\": 6, \"type\": \"numeric\"}, {\"field\": \"total_beds_7_day_avg\", \"alias\": \"total_beds_7_day_avg\", \"generated\": 0, \"position\": 7, \"type\": \"real\"}, {\"field\": \"inpatient_beds_used_covid_7_day_avg\", \"alias\": \"inpatient_beds_used_covid_7_day_avg\", \"generated\": 0, \"position\": 8, \"type\": \"real\"}, {\"field\": \"total_beds_7_day_sum\", \"alias\": \"total_beds_7_day_sum\", \"generated\": 0, \"position\": 9, \"type\": \"numeric\"}, {\"field\": \"all_adult_hospital_beds_7_day_sum\", \"alias\": \"all_adult_hospital_beds_7_day_sum\", \"generated\": 0, \"position\": 10, \"type\": \"numeric\"}, {\"field\": \"all_adult_hospital_inpatient_beds_7_day_sum\", \"alias\": \"all_adult_hospital_inpatient_beds_7_day_sum\", \"generated\": 0, \"position\": 11, \"type\": \"numeric\"}, {\"field\": \"inpatient_beds_used_covid_7_day_sum\", \"alias\": \"inpatient_beds_used_covid_7_day_sum\", \"generated\": 0, \"position\": 12, \"type\": \"numeric\"}, {\"field\": \"total_adult_patients_hospitalized_confirmed_and_suspected_covid_7_day_sum\", \"alias\": \"total_adult_patients_hospitalized_confirmed_and_suspected_covid_7_day_sum\", \"generated\": 0, \"position\": 13, \"type\": \"numeric\"}, {\"field\": \"total_adult_patients_hospitalized_confirmed_covid_7_day_sum\", \"alias\": \"total_adult_patients_hospitalized_confirmed_covid_7_day_sum\", \"generated\": 0, \"position\": 14, \"type\": \"numeric\"}, {\"field\": \"inpatient_beds_7_day_sum\", \"alias\": \"inpatient_beds_7_day_sum\", \"generated\": 0, \"position\": 15, \"type\": \"numeric\"}, {\"field\": \"total_icu_beds_7_day_sum\", \"alias\": \"total_icu_beds_7_day_sum\", \"generated\": 0, \"position\": 16, \"type\": \"numeric\"}, {\"field\": \"total_staffed_adult_icu_beds_7_day_sum\", \"alias\": \"total_staffed_adult_icu_beds_7_day_sum\", \"generated\": 0, \"position\": 17, \"type\": \"numeric\"}, {\"field\": \"icu_beds_used_7_day_sum\", \"alias\": \"icu_beds_used_7_day_sum\", \"generated\": 0, \"position\": 18, \"type\": \"numeric\"}, {\"field\": \"staffed_icu_adult_patients_confirmed_and_suspected_covid_7_day_sum\", \"alias\": \"staffed_icu_adult_patients_confirmed_and_suspected_covid_7_day_sum\", \"generated\": 0, \"position\": 19, \"type\": \"numeric\"}, {\"field\": \"staffed_icu_adult_patients_confirmed_covid_7_day_sum\", \"alias\": \"staffed_icu_adult_patients_confirmed_covid_7_day_sum\", \"generated\": 0, \"position\": 20, \"type\": \"numeric\"}, {\"field\": \"previous_day_covid_ED_visits_7_day_sum\", \"alias\": \"previous_day_covid_ED_visits_7_day_sum\", \"generated\": 0, \"position\": 21, \"type\": \"numeric\"}]}))\n",
    "\t#operationPostExecutionHook(datapreparation)\n",
    "\n",
    "except Exception as ex: \n",
    "\tlogging.error(ex)\n"
   ]
  },
  {
   "cell_type": "markdown",
   "id": "6f039106",
   "metadata": {},
   "source": [
    "***WRITING DATAFRAME***"
   ]
  },
  {
   "cell_type": "code",
   "execution_count": null,
   "id": "df79fbe7",
   "metadata": {},
   "outputs": [],
   "source": [
    "#%run 4juncoronatestHooks.ipynb\n",
    "try:\n",
    "\t#sinkPreExecutionHook()\n",
    "\n",
    "\tdatapipelinetestoutput = NumtraConnector.fetch(spark, \"{'samplefile': '/FileStore/platform/sampleData/665f0ccc699c8a1e46d3bbe6/part-00000-d4ed4015-1fa2-43de-8666-fdb06e9dee97-c000.csv', 'samplecount': 742, 'originalcount': 742, 'orignalKey': '/FileStore/platform/uploadedSourceFiles/CoronaTSTrain.csv', 'pathOnly': '/DataPipelineTest', 'project_id': '65d6eaa27ff4e119ca47d614', 'parent_id': '65d6eaa27ff4e119ca47d614', 'original_schema': [{'checked': True, 'inherited': True, 'is_categorical': False, 'bad_values': '', 'nullable': 'true', 'field': 'collection_week', 'alias': 'collection_week', 'type': 'date', 'position': '0'}, {'checked': True, 'inherited': True, 'is_categorical': False, 'bad_values': '', 'nullable': 'true', 'field': 'state', 'alias': 'state', 'type': 'String', 'position': '1'}, {'checked': True, 'inherited': True, 'is_categorical': False, 'bad_values': '', 'nullable': 'true', 'field': 'city', 'alias': 'city', 'type': 'String', 'position': '2'}, {'checked': True, 'inherited': True, 'is_categorical': False, 'bad_values': '', 'nullable': 'true', 'field': 'hospital_subtype', 'alias': 'hospital_subtype', 'type': 'String', 'position': '3'}, {'checked': True, 'inherited': True, 'is_categorical': False, 'bad_values': '', 'nullable': 'true', 'field': 'fips_code', 'alias': 'fips_code', 'type': 'numeric', 'position': '4'}, {'checked': True, 'inherited': True, 'is_categorical': False, 'bad_values': '', 'nullable': 'true', 'field': 'is_metro_micro', 'alias': 'is_metro_micro', 'type': 'numeric', 'position': '5'}, {'checked': True, 'inherited': True, 'is_categorical': False, 'bad_values': '', 'nullable': 'true', 'field': 'total_beds_7_day_avg', 'alias': 'total_beds_7_day_avg', 'type': 'real', 'position': '6'}, {'checked': True, 'inherited': True, 'is_categorical': False, 'bad_values': '', 'nullable': 'true', 'field': 'inpatient_beds_used_covid_7_day_avg', 'alias': 'inpatient_beds_used_covid_7_day_avg', 'type': 'real', 'position': '7'}, {'checked': True, 'inherited': True, 'is_categorical': False, 'bad_values': '', 'nullable': 'true', 'field': 'total_beds_7_day_sum', 'alias': 'total_beds_7_day_sum', 'type': 'numeric', 'position': '8'}, {'checked': True, 'inherited': True, 'is_categorical': False, 'bad_values': '', 'nullable': 'true', 'field': 'all_adult_hospital_beds_7_day_sum', 'alias': 'all_adult_hospital_beds_7_day_sum', 'type': 'numeric', 'position': '9'}, {'checked': True, 'inherited': True, 'is_categorical': False, 'bad_values': '', 'nullable': 'true', 'field': 'all_adult_hospital_inpatient_beds_7_day_sum', 'alias': 'all_adult_hospital_inpatient_beds_7_day_sum', 'type': 'numeric', 'position': '10'}, {'checked': True, 'inherited': True, 'is_categorical': False, 'bad_values': '', 'nullable': 'true', 'field': 'inpatient_beds_used_covid_7_day_sum', 'alias': 'inpatient_beds_used_covid_7_day_sum', 'type': 'numeric', 'position': '11'}, {'checked': True, 'inherited': True, 'is_categorical': False, 'bad_values': '', 'nullable': 'true', 'field': 'total_adult_patients_hospitalized_confirmed_and_suspected_covid_7_day_sum', 'alias': 'total_adult_patients_hospitalized_confirmed_and_suspected_covid_7_day_sum', 'type': 'numeric', 'position': '12'}, {'checked': True, 'inherited': True, 'is_categorical': False, 'bad_values': '', 'nullable': 'true', 'field': 'total_adult_patients_hospitalized_confirmed_covid_7_day_sum', 'alias': 'total_adult_patients_hospitalized_confirmed_covid_7_day_sum', 'type': 'numeric', 'position': '13'}, {'checked': True, 'inherited': True, 'is_categorical': False, 'bad_values': '', 'nullable': 'true', 'field': 'inpatient_beds_7_day_sum', 'alias': 'inpatient_beds_7_day_sum', 'type': 'numeric', 'position': '14'}, {'checked': True, 'inherited': True, 'is_categorical': False, 'bad_values': '', 'nullable': 'true', 'field': 'total_icu_beds_7_day_sum', 'alias': 'total_icu_beds_7_day_sum', 'type': 'numeric', 'position': '15'}, {'checked': True, 'inherited': True, 'is_categorical': False, 'bad_values': '', 'nullable': 'true', 'field': 'total_staffed_adult_icu_beds_7_day_sum', 'alias': 'total_staffed_adult_icu_beds_7_day_sum', 'type': 'numeric', 'position': '16'}, {'checked': True, 'inherited': True, 'is_categorical': False, 'bad_values': '', 'nullable': 'true', 'field': 'icu_beds_used_7_day_sum', 'alias': 'icu_beds_used_7_day_sum', 'type': 'numeric', 'position': '17'}, {'checked': True, 'inherited': True, 'is_categorical': False, 'bad_values': '', 'nullable': 'true', 'field': 'staffed_icu_adult_patients_confirmed_and_suspected_covid_7_day_sum', 'alias': 'staffed_icu_adult_patients_confirmed_and_suspected_covid_7_day_sum', 'type': 'numeric', 'position': '18'}, {'checked': True, 'inherited': True, 'is_categorical': False, 'bad_values': '', 'nullable': 'true', 'field': 'staffed_icu_adult_patients_confirmed_covid_7_day_sum', 'alias': 'staffed_icu_adult_patients_confirmed_covid_7_day_sum', 'type': 'numeric', 'position': '19'}, {'checked': True, 'inherited': True, 'is_categorical': False, 'bad_values': '', 'nullable': 'true', 'field': 'previous_day_covid_ED_visits_7_day_sum', 'alias': 'previous_day_covid_ED_visits_7_day_sum', 'type': 'numeric', 'position': '20'}], 'actual_schema': [{'checked': True, 'inherited': True, 'is_categorical': False, 'bad_values': '', 'nullable': 'true', 'field': 'collection_week', 'alias': 'collection_week', 'type': 'date', 'position': '0'}, {'checked': True, 'inherited': True, 'is_categorical': False, 'bad_values': '', 'nullable': 'true', 'field': 'state', 'alias': 'state', 'type': 'String', 'position': '1'}, {'checked': True, 'inherited': True, 'is_categorical': False, 'bad_values': '', 'nullable': 'true', 'field': 'city', 'alias': 'city', 'type': 'String', 'position': '2'}, {'checked': True, 'inherited': True, 'is_categorical': False, 'bad_values': '', 'nullable': 'true', 'field': 'hospital_subtype', 'alias': 'hospital_subtype', 'type': 'String', 'position': '3'}, {'checked': True, 'inherited': True, 'is_categorical': False, 'bad_values': '', 'nullable': 'true', 'field': 'fips_code', 'alias': 'fips_code', 'type': 'numeric', 'position': '4'}, {'checked': True, 'inherited': True, 'is_categorical': False, 'bad_values': '', 'nullable': 'true', 'field': 'is_metro_micro', 'alias': 'is_metro_micro', 'type': 'numeric', 'position': '5'}, {'checked': True, 'inherited': True, 'is_categorical': False, 'bad_values': '', 'nullable': 'true', 'field': 'total_beds_7_day_avg', 'alias': 'total_beds_7_day_avg', 'type': 'real', 'position': '6'}, {'checked': True, 'inherited': True, 'is_categorical': False, 'bad_values': '', 'nullable': 'true', 'field': 'inpatient_beds_used_covid_7_day_avg', 'alias': 'inpatient_beds_used_covid_7_day_avg', 'type': 'real', 'position': '7'}, {'checked': True, 'inherited': True, 'is_categorical': False, 'bad_values': '', 'nullable': 'true', 'field': 'total_beds_7_day_sum', 'alias': 'total_beds_7_day_sum', 'type': 'numeric', 'position': '8'}, {'checked': True, 'inherited': True, 'is_categorical': False, 'bad_values': '', 'nullable': 'true', 'field': 'all_adult_hospital_beds_7_day_sum', 'alias': 'all_adult_hospital_beds_7_day_sum', 'type': 'numeric', 'position': '9'}, {'checked': True, 'inherited': True, 'is_categorical': False, 'bad_values': '', 'nullable': 'true', 'field': 'all_adult_hospital_inpatient_beds_7_day_sum', 'alias': 'all_adult_hospital_inpatient_beds_7_day_sum', 'type': 'numeric', 'position': '10'}, {'checked': True, 'inherited': True, 'is_categorical': False, 'bad_values': '', 'nullable': 'true', 'field': 'inpatient_beds_used_covid_7_day_sum', 'alias': 'inpatient_beds_used_covid_7_day_sum', 'type': 'numeric', 'position': '11'}, {'checked': True, 'inherited': True, 'is_categorical': False, 'bad_values': '', 'nullable': 'true', 'field': 'total_adult_patients_hospitalized_confirmed_and_suspected_covid_7_day_sum', 'alias': 'total_adult_patients_hospitalized_confirmed_and_suspected_covid_7_day_sum', 'type': 'numeric', 'position': '12'}, {'checked': True, 'inherited': True, 'is_categorical': False, 'bad_values': '', 'nullable': 'true', 'field': 'total_adult_patients_hospitalized_confirmed_covid_7_day_sum', 'alias': 'total_adult_patients_hospitalized_confirmed_covid_7_day_sum', 'type': 'numeric', 'position': '13'}, {'checked': True, 'inherited': True, 'is_categorical': False, 'bad_values': '', 'nullable': 'true', 'field': 'inpatient_beds_7_day_sum', 'alias': 'inpatient_beds_7_day_sum', 'type': 'numeric', 'position': '14'}, {'checked': True, 'inherited': True, 'is_categorical': False, 'bad_values': '', 'nullable': 'true', 'field': 'total_icu_beds_7_day_sum', 'alias': 'total_icu_beds_7_day_sum', 'type': 'numeric', 'position': '15'}, {'checked': True, 'inherited': True, 'is_categorical': False, 'bad_values': '', 'nullable': 'true', 'field': 'total_staffed_adult_icu_beds_7_day_sum', 'alias': 'total_staffed_adult_icu_beds_7_day_sum', 'type': 'numeric', 'position': '16'}, {'checked': True, 'inherited': True, 'is_categorical': False, 'bad_values': '', 'nullable': 'true', 'field': 'icu_beds_used_7_day_sum', 'alias': 'icu_beds_used_7_day_sum', 'type': 'numeric', 'position': '17'}, {'checked': True, 'inherited': True, 'is_categorical': False, 'bad_values': '', 'nullable': 'true', 'field': 'staffed_icu_adult_patients_confirmed_and_suspected_covid_7_day_sum', 'alias': 'staffed_icu_adult_patients_confirmed_and_suspected_covid_7_day_sum', 'type': 'numeric', 'position': '18'}, {'checked': True, 'inherited': True, 'is_categorical': False, 'bad_values': '', 'nullable': 'true', 'field': 'staffed_icu_adult_patients_confirmed_covid_7_day_sum', 'alias': 'staffed_icu_adult_patients_confirmed_covid_7_day_sum', 'type': 'numeric', 'position': '19'}, {'checked': True, 'inherited': True, 'is_categorical': False, 'bad_values': '', 'nullable': 'true', 'field': 'previous_day_covid_ED_visits_7_day_sum', 'alias': 'previous_day_covid_ED_visits_7_day_sum', 'type': 'numeric', 'position': '20'}], 'server': 'https://dnm.bfirst.ai:443', 'server_url': '/nexusMax/NexusMaxPlatform/uploads/platform/', 'delimiter': ',', 'file_type': 'Delimeted', 'filename': '4JuneCoronaDprep.csv', 'token': '', 'domain': '', 'is_header': 'Use Header Line', 'url': '/FileStore/platform/uploadedSourceFiles/part-00000-6fcdc887-7567-4140-858a-ade319af3e43-c000.csv', 'results_url': 'http://dnm.bfirst.ai:44040/api/read/hdfs'}\")\n",
    "\n",
    "except Exception as ex: \n",
    "\tlogging.error(ex)\n"
   ]
  }
 ],
 "metadata": {},
 "nbformat": 4,
 "nbformat_minor": 5
}
